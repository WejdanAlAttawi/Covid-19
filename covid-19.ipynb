{
 "cells": [
  {
   "cell_type": "markdown",
   "metadata": {},
   "source": [
    "#### Import needed libraries"
   ]
  },
  {
   "cell_type": "code",
   "execution_count": 40,
   "metadata": {},
   "outputs": [],
   "source": [
    "#dealing with datasets\n",
    "import pandas as pd\n",
    "#operations on datasets\n",
    "import numpy as np\n",
    "#creaing viualizations\n",
    "import plotly.express as px\n",
    "import plotly.graph_objects as go\n",
    "from plotly.subplots import make_subplots"
   ]
  },
  {
   "cell_type": "code",
   "execution_count": 41,
   "metadata": {},
   "outputs": [],
   "source": [
    "recoveries = pd.read_csv('https://raw.githubusercontent.com/CSSEGISandData/COVID-19/master/csse_covid_19_data/csse_covid_19_time_series/time_series_covid19_recovered_global.csv')\n",
    "confirmed = pd.read_csv('https://raw.githubusercontent.com/CSSEGISandData/COVID-19/master/csse_covid_19_data/csse_covid_19_time_series/time_series_covid19_confirmed_global.csv')\n",
    "deaths = pd.read_csv('https://raw.githubusercontent.com/CSSEGISandData/COVID-19/master/csse_covid_19_data/csse_covid_19_time_series/time_series_covid19_deaths_global.csv')\n",
    "us_medical_data = pd.read_csv('https://raw.githubusercontent.com/CSSEGISandData/COVID-19/master/csse_covid_19_data/csse_covid_19_daily_reports_us/08-22-2020.csv')\n",
    "latest_data = pd.read_csv('https://raw.githubusercontent.com/CSSEGISandData/COVID-19/master/csse_covid_19_data/csse_covid_19_daily_reports/08-22-2020.csv')"
   ]
  },
  {
   "cell_type": "code",
   "execution_count": 42,
   "metadata": {},
   "outputs": [
    {
     "data": {
      "text/html": [
       "<div>\n",
       "<style scoped>\n",
       "    .dataframe tbody tr th:only-of-type {\n",
       "        vertical-align: middle;\n",
       "    }\n",
       "\n",
       "    .dataframe tbody tr th {\n",
       "        vertical-align: top;\n",
       "    }\n",
       "\n",
       "    .dataframe thead th {\n",
       "        text-align: right;\n",
       "    }\n",
       "</style>\n",
       "<table border=\"1\" class=\"dataframe\">\n",
       "  <thead>\n",
       "    <tr style=\"text-align: right;\">\n",
       "      <th></th>\n",
       "      <th>Province/State</th>\n",
       "      <th>Country/Region</th>\n",
       "      <th>Lat</th>\n",
       "      <th>Long</th>\n",
       "      <th>1/22/20</th>\n",
       "      <th>1/23/20</th>\n",
       "      <th>1/24/20</th>\n",
       "      <th>1/25/20</th>\n",
       "      <th>1/26/20</th>\n",
       "      <th>1/27/20</th>\n",
       "      <th>...</th>\n",
       "      <th>12/27/20</th>\n",
       "      <th>12/28/20</th>\n",
       "      <th>12/29/20</th>\n",
       "      <th>12/30/20</th>\n",
       "      <th>12/31/20</th>\n",
       "      <th>1/1/21</th>\n",
       "      <th>1/2/21</th>\n",
       "      <th>1/3/21</th>\n",
       "      <th>1/4/21</th>\n",
       "      <th>1/5/21</th>\n",
       "    </tr>\n",
       "  </thead>\n",
       "  <tbody>\n",
       "    <tr>\n",
       "      <th>0</th>\n",
       "      <td>NaN</td>\n",
       "      <td>Afghanistan</td>\n",
       "      <td>33.93911</td>\n",
       "      <td>67.709953</td>\n",
       "      <td>0</td>\n",
       "      <td>0</td>\n",
       "      <td>0</td>\n",
       "      <td>0</td>\n",
       "      <td>0</td>\n",
       "      <td>0</td>\n",
       "      <td>...</td>\n",
       "      <td>51039</td>\n",
       "      <td>51280</td>\n",
       "      <td>51350</td>\n",
       "      <td>51405</td>\n",
       "      <td>51526</td>\n",
       "      <td>51526</td>\n",
       "      <td>51526</td>\n",
       "      <td>51526</td>\n",
       "      <td>53011</td>\n",
       "      <td>53105</td>\n",
       "    </tr>\n",
       "    <tr>\n",
       "      <th>1</th>\n",
       "      <td>NaN</td>\n",
       "      <td>Albania</td>\n",
       "      <td>41.15330</td>\n",
       "      <td>20.168300</td>\n",
       "      <td>0</td>\n",
       "      <td>0</td>\n",
       "      <td>0</td>\n",
       "      <td>0</td>\n",
       "      <td>0</td>\n",
       "      <td>0</td>\n",
       "      <td>...</td>\n",
       "      <td>56254</td>\n",
       "      <td>56572</td>\n",
       "      <td>57146</td>\n",
       "      <td>57727</td>\n",
       "      <td>58316</td>\n",
       "      <td>58316</td>\n",
       "      <td>58991</td>\n",
       "      <td>59438</td>\n",
       "      <td>59623</td>\n",
       "      <td>60283</td>\n",
       "    </tr>\n",
       "    <tr>\n",
       "      <th>2</th>\n",
       "      <td>NaN</td>\n",
       "      <td>Algeria</td>\n",
       "      <td>28.03390</td>\n",
       "      <td>1.659600</td>\n",
       "      <td>0</td>\n",
       "      <td>0</td>\n",
       "      <td>0</td>\n",
       "      <td>0</td>\n",
       "      <td>0</td>\n",
       "      <td>0</td>\n",
       "      <td>...</td>\n",
       "      <td>98249</td>\n",
       "      <td>98631</td>\n",
       "      <td>98988</td>\n",
       "      <td>99311</td>\n",
       "      <td>99610</td>\n",
       "      <td>99897</td>\n",
       "      <td>100159</td>\n",
       "      <td>100408</td>\n",
       "      <td>100645</td>\n",
       "      <td>100873</td>\n",
       "    </tr>\n",
       "    <tr>\n",
       "      <th>3</th>\n",
       "      <td>NaN</td>\n",
       "      <td>Andorra</td>\n",
       "      <td>42.50630</td>\n",
       "      <td>1.521800</td>\n",
       "      <td>0</td>\n",
       "      <td>0</td>\n",
       "      <td>0</td>\n",
       "      <td>0</td>\n",
       "      <td>0</td>\n",
       "      <td>0</td>\n",
       "      <td>...</td>\n",
       "      <td>7821</td>\n",
       "      <td>7875</td>\n",
       "      <td>7919</td>\n",
       "      <td>7983</td>\n",
       "      <td>8049</td>\n",
       "      <td>8117</td>\n",
       "      <td>8166</td>\n",
       "      <td>8192</td>\n",
       "      <td>8249</td>\n",
       "      <td>8308</td>\n",
       "    </tr>\n",
       "    <tr>\n",
       "      <th>4</th>\n",
       "      <td>NaN</td>\n",
       "      <td>Angola</td>\n",
       "      <td>-11.20270</td>\n",
       "      <td>17.873900</td>\n",
       "      <td>0</td>\n",
       "      <td>0</td>\n",
       "      <td>0</td>\n",
       "      <td>0</td>\n",
       "      <td>0</td>\n",
       "      <td>0</td>\n",
       "      <td>...</td>\n",
       "      <td>17240</td>\n",
       "      <td>17296</td>\n",
       "      <td>17371</td>\n",
       "      <td>17433</td>\n",
       "      <td>17553</td>\n",
       "      <td>17568</td>\n",
       "      <td>17608</td>\n",
       "      <td>17642</td>\n",
       "      <td>17684</td>\n",
       "      <td>17756</td>\n",
       "    </tr>\n",
       "  </tbody>\n",
       "</table>\n",
       "<p>5 rows × 354 columns</p>\n",
       "</div>"
      ],
      "text/plain": [
       "  Province/State Country/Region       Lat       Long  1/22/20  1/23/20  \\\n",
       "0            NaN    Afghanistan  33.93911  67.709953        0        0   \n",
       "1            NaN        Albania  41.15330  20.168300        0        0   \n",
       "2            NaN        Algeria  28.03390   1.659600        0        0   \n",
       "3            NaN        Andorra  42.50630   1.521800        0        0   \n",
       "4            NaN         Angola -11.20270  17.873900        0        0   \n",
       "\n",
       "   1/24/20  1/25/20  1/26/20  1/27/20  ...  12/27/20  12/28/20  12/29/20  \\\n",
       "0        0        0        0        0  ...     51039     51280     51350   \n",
       "1        0        0        0        0  ...     56254     56572     57146   \n",
       "2        0        0        0        0  ...     98249     98631     98988   \n",
       "3        0        0        0        0  ...      7821      7875      7919   \n",
       "4        0        0        0        0  ...     17240     17296     17371   \n",
       "\n",
       "   12/30/20  12/31/20  1/1/21  1/2/21  1/3/21  1/4/21  1/5/21  \n",
       "0     51405     51526   51526   51526   51526   53011   53105  \n",
       "1     57727     58316   58316   58991   59438   59623   60283  \n",
       "2     99311     99610   99897  100159  100408  100645  100873  \n",
       "3      7983      8049    8117    8166    8192    8249    8308  \n",
       "4     17433     17553   17568   17608   17642   17684   17756  \n",
       "\n",
       "[5 rows x 354 columns]"
      ]
     },
     "execution_count": 42,
     "metadata": {},
     "output_type": "execute_result"
    }
   ],
   "source": [
    "confirmed.head()"
   ]
  },
  {
   "cell_type": "markdown",
   "metadata": {},
   "source": [
    "### Preprocessing"
   ]
  },
  {
   "cell_type": "markdown",
   "metadata": {},
   "source": [
    "###### splitting the dataframes into groups by using groupby() function"
   ]
  },
  {
   "cell_type": "code",
   "execution_count": 43,
   "metadata": {},
   "outputs": [],
   "source": [
    "confirmed_df=confirmed.groupby(by=\"Country/Region\", as_index=False).sum()\n",
    "death_df=deaths.groupby(by=\"Country/Region\", as_index=False).sum()\n",
    "recoveries_df=recoveries.groupby(by=\"Country/Region\", as_index=False).sum()"
   ]
  },
  {
   "cell_type": "code",
   "execution_count": 44,
   "metadata": {},
   "outputs": [],
   "source": [
    "active_group=pd.DataFrame(columns=[confirmed.columns])\n",
    "active_group=deaths.copy()\n"
   ]
  },
  {
   "cell_type": "markdown",
   "metadata": {},
   "source": [
    "###### dataframe enlargement"
   ]
  },
  {
   "cell_type": "code",
   "execution_count": null,
   "metadata": {},
   "outputs": [],
   "source": [
    "for i in range(confirmed_df.shape[0]):\n",
    "    for j in range(3, confirmed_df.shape[1]):\n",
    "        active_group.iloc[i,j] = confirmed_df.iloc[i,j]-(recoveries_df.iloc[i,j]+death_df.iloc[i,j])"
   ]
  },
  {
   "cell_type": "code",
   "execution_count": null,
   "metadata": {},
   "outputs": [],
   "source": [
    "confirmed.describe()"
   ]
  },
  {
   "cell_type": "markdown",
   "metadata": {},
   "source": [
    "#### Basic Statistics for Time Series Analysis:\n",
    "###### Time series analysis comprises methods for analyzing time series data in order to extract meaningful statistics and other characteristics of the data."
   ]
  },
  {
   "cell_type": "code",
   "execution_count": null,
   "metadata": {},
   "outputs": [],
   "source": [
    "base_stats = pd.DataFrame(columns=['Dates','Confirmed','Deaths','Recovered','Active'])\n",
    "base_stats['Dates'] = confirmed.columns[4:]\n"
   ]
  },
  {
   "cell_type": "code",
   "execution_count": null,
   "metadata": {},
   "outputs": [],
   "source": [
    "base_stats['Confirmed'] = base_stats['Dates'].apply(lambda x: confirmed[x].sum())\n",
    "base_stats['Recovered'] = base_stats['Dates'].apply(lambda x: recoveries[x].sum())\n",
    "base_stats['Deaths'] = base_stats['Dates'].apply(lambda x: deaths[x].sum())\n",
    "base_stats.reset_index(drop=False, inplace=True)\n",
    "base_stats['Active'] = base_stats['index'].apply(lambda x: (base_stats['Confirmed'][x]-(base_stats['Deaths'][x]+base_stats['Recovered'][x])))"
   ]
  },
  {
   "cell_type": "code",
   "execution_count": null,
   "metadata": {},
   "outputs": [],
   "source": [
    "base_stats.head()"
   ]
  },
  {
   "cell_type": "markdown",
   "metadata": {},
   "source": [
    "#### Recent cases "
   ]
  },
  {
   "cell_type": "code",
   "execution_count": null,
   "metadata": {},
   "outputs": [],
   "source": [
    "recent_stats = go.Figure()\n",
    "recent_stats.add_trace(go.Treemap(labels = [\"Confirmed\",\"Active\",\"Recovered\",\"Deaths\"],\n",
    "                                     parents = [\"\",\"Confirmed\",\"Confirmed\",\"Confirmed\"],\n",
    "                                     values = [base_stats['Confirmed'].sum(), base_stats['Active'].sum(), base_stats['Recovered'].sum(), base_stats['Deaths'].sum()],\n",
    "                                      branchvalues=\"total\", marker_colors = [\"#073b4c\",\"#118ab2\",\"#06d6a0\",\"#ef476f\"],\n",
    "                                      textinfo = \"label+text+value\",\n",
    "                                      outsidetextfont = {\"size\": 30, \"color\": \"darkblue\"},\n",
    "                                      marker = {\"line\": {\"width\": 2}},\n",
    "                                        pathbar = {\"visible\": False}\n",
    "                                     ))\n",
    "\n",
    "recent_stats.show()"
   ]
  },
  {
   "cell_type": "code",
   "execution_count": null,
   "metadata": {},
   "outputs": [],
   "source": [
    "base_stats_fig = go.Figure()\n",
    "for column in base_stats.columns.to_list()[2:6]:\n",
    "    color_dict = {\n",
    "      \"Confirmed\": \"#ef476f\",\n",
    "      \"Deaths\": \"#118ab2\",\n",
    "      \"Recovered\": \"#073b4c\",\n",
    "      \"Active\": \"#06d6a0\"\n",
    "        }\n",
    "    base_stats_fig.add_trace(\n",
    "        go.Scatter(\n",
    "            x = base_stats['Dates'],\n",
    "            y = base_stats[column],\n",
    "            name = column,\n",
    "            line = dict(color=color_dict[column]),\n",
    "            hovertemplate ='<br><b>Date</b>: %{x}'+'<br><i>Count</i>:'+'%{y}',\n",
    "        )\n",
    "    )"
   ]
  },
  {
   "cell_type": "code",
   "execution_count": null,
   "metadata": {},
   "outputs": [],
   "source": [
    "for column in base_stats.columns.to_list()[2:6]:\n",
    "    color_dict = {\n",
    "      \"Confirmed\": \"#0C6583\",\n",
    "      \"Deaths\": \"#24F9C1\",\n",
    "      \"Active\": \"#F47C98\",\n",
    "      \"Recovered\": \"#149ECC\"\n",
    "        }\n",
    "    base_stats_fig.add_trace(\n",
    "        go.Scatter(\n",
    "            x = base_stats['Dates'],\n",
    "            y = base_stats['index'].apply(lambda x: (base_stats[column][x-7:x].sum())/7 if x>7 else (base_stats[column][0:x].sum())/7),\n",
    "            name = column+\" 7-day Moving Avg.\",\n",
    "            line = dict(dash=\"dash\", color=color_dict[column]), showlegend=False,\n",
    "            hovertemplate = '<br><b>Date</b>: %{x}'+'<br><i>7-day moving avg.</i>: %{y}'\n",
    "        )\n",
    "    )"
   ]
  },
  {
   "cell_type": "markdown",
   "metadata": {},
   "source": [
    "#### Cases across the world"
   ]
  },
  {
   "cell_type": "code",
   "execution_count": null,
   "metadata": {},
   "outputs": [],
   "source": [
    "base_stats_fig.update_layout(\n",
    "    updatemenus=[\n",
    "        dict(\n",
    "        buttons=list(\n",
    "            [dict(label = 'All Cases',\n",
    "                  method = 'update',\n",
    "                  args = [{'visible': [True, True, True, True, True, True, True, True]},\n",
    "                          {'title': 'All Cases',\n",
    "                           'showlegend':True}]),\n",
    "             dict(label = 'Confirmed',\n",
    "                  method = 'update',\n",
    "                  args = [{'visible': [True, False, False, False, True, False, False, False]},\n",
    "                          {'title': 'Confirmed',\n",
    "                           'showlegend':True}]),\n",
    "             dict(label = 'Active',\n",
    "                  method = 'update',\n",
    "                  args = [{'visible': [False, False, False, True, False, False, False, True]},\n",
    "                          {'title': 'Active',\n",
    "                           'showlegend':True}]),\n",
    "             dict(label = 'Recovered',\n",
    "                  method = 'update',\n",
    "                  args = [{'visible': [False, False, True, False, False, False, True, False]},\n",
    "                          {'title': 'Recovered',\n",
    "                           'showlegend':True}]),\n",
    "             dict(label = 'Deaths',\n",
    "                  method = 'update',\n",
    "                  args = [{'visible': [False, True, False, False, False, True, False, False]},\n",
    "                          {'title': 'Deaths',\n",
    "                           'showlegend':True}]),\n",
    "            ]),\n",
    "             type = \"dropdown\",\n",
    "             direction=\"down\",\n",
    "            showactive=True,\n",
    "             x=0,\n",
    "             xanchor=\"left\",\n",
    "             y=1.25,\n",
    "             yanchor=\"top\"\n",
    "        ),\n",
    "        dict(\n",
    "        buttons=list(\n",
    "            [dict(label = 'Linear Scale',\n",
    "                  method = 'relayout',\n",
    "                  args = [{'yaxis': {'type': 'linear'}},\n",
    "                          {'title': 'All Cases',\n",
    "                           'showlegend':True}]),\n",
    "             dict(label = 'Log Scale',\n",
    "                  method = 'relayout',\n",
    "                  args = [{'yaxis': {'type': 'log'}},\n",
    "                          {'title': 'Confirmed',\n",
    "                           'showlegend':True}]),\n",
    "            ]),\n",
    "             type = \"dropdown\",\n",
    "             direction=\"down\",\n",
    "            showactive=True,\n",
    "             x=0,\n",
    "             xanchor=\"left\",\n",
    "             y=1.36,\n",
    "             yanchor=\"top\"\n",
    "        )\n",
    "    ])\n",
    "\n",
    "base_stats_fig.update_xaxes(showticklabels=False)\n",
    "base_stats_fig.update_layout( \n",
    "    title_text=\"Covid-19 Basic Statistics\", title_x=0.5, title_font_size=20,\n",
    "                            legend=dict(orientation='h',yanchor='top',y=1.15,xanchor='right',x=1), paper_bgcolor=\"mintcream\",\n",
    "                            xaxis_title=\"Date\", yaxis_title=\"Number of Cases\")\n",
    "base_stats_fig.show()"
   ]
  },
  {
   "cell_type": "markdown",
   "metadata": {},
   "source": [
    "### Daily Increasing Cases"
   ]
  },
  {
   "cell_type": "code",
   "execution_count": null,
   "metadata": {},
   "outputs": [],
   "source": [
    "daily_case_fig = make_subplots(rows=2, cols=2, vertical_spacing=0.05, horizontal_spacing=0.04,\n",
    "                           subplot_titles=('Confirmed','Active','Recovered','Deaths'),\n",
    "                            x_title='Dates', y_title='# of Cases',)\n",
    "\n",
    "daily_case_fig.add_trace(go.Bar(x=base_stats['Dates'], y=base_stats['index'].apply(lambda x: base_stats['Confirmed'][x]-base_stats['Confirmed'][x-1:x].sum()),\n",
    "                              name='Confirmed',hovertemplate = '<br><b>Date</b>: %{x}'+'<br><i>Confirmed Count</i>: %{y}',\n",
    "                                marker=dict(color='#118ab2')),row=1, col=1)\n",
    "daily_case_fig.add_trace(go.Scatter(x=base_stats['Dates'], y=base_stats['index'].apply(lambda x: (base_stats['Confirmed'][x-7:x].sum()-base_stats['Confirmed'][x-8:x-1].sum())/7 if x>0 else 0),\n",
    "                             name='7-day moving average', hovertemplate = '<br><b>Date</b>: %{x}'+'<br><i>7-day average</i>: %{y}', showlegend=False,\n",
    "                                    line=dict(dash=\"dash\", color='#149ECC')),row=1, col=1)\n",
    "\n",
    "daily_case_fig.add_trace(go.Bar(x=base_stats['Dates'], y=base_stats['index'].apply(lambda x: base_stats['Active'][x]-base_stats['Active'][x-1:x].sum()), \n",
    "                             name='Active',hovertemplate = '<br><b>Date</b>: %{x}'+'<br><i>Active Count</i>: %{y}',\n",
    "                               marker=dict(color='#ef476f')),row=1, col=2)\n",
    "daily_case_fig.add_trace(go.Scatter(x=base_stats['Dates'], y=base_stats['index'].apply(lambda x: (base_stats['Active'][x-7:x].sum()-base_stats['Active'][x-8:x-1].sum())/7 if x>0 else 0),\n",
    "                             name='7-day moving average', hovertemplate = '<br><b>Date</b>: %{x}'+'<br><i>7-day average</i>: %{y}', showlegend=False,\n",
    "                                    line=dict(dash=\"dash\", color='#F47C98')),row=1, col=2)\n",
    "daily_case_fig.add_trace(go.Bar(x=base_stats['Dates'], y=base_stats['index'].apply(lambda x: base_stats['Recovered'][x]-base_stats['Recovered'][x-1:x].sum()), \n",
    "                              name='Recovered',hovertemplate = '<br><b>Date</b>: %{x}'+'<br><i>Recovered Count</i>: %{y}',\n",
    "                               marker=dict(color='#06d6a0')),row=2, col=1)\n",
    "daily_case_fig.add_trace(go.Scatter(x=base_stats['Dates'], y=base_stats['index'].apply(lambda x: (base_stats['Recovered'][x-7:x].sum()-base_stats['Recovered'][x-8:x-1].sum())/7 if x>0 else 0),\n",
    "                             name='7-day moving average', hovertemplate = '<br><b>Date</b>: %{x}'+'<br><i>7-day average</i>: %{y}', showlegend=False,\n",
    "                                    line=dict(dash=\"dash\", color='#24F9C1')),row=2, col=1)\n",
    "\n",
    "daily_case_fig.add_trace(go.Bar(x=base_stats['Dates'], y=base_stats['index'].apply(lambda x: base_stats['Deaths'][x]-base_stats['Deaths'][x-1:x].sum()), \n",
    "                              name='Deaths',hovertemplate = '<br><b>Date</b>: %{x}'+'<br><i>Death Count</i>: %{y}',\n",
    "                               marker=dict(color='#073b4c')),row=2, col=2)\n",
    "daily_case_fig.add_trace(go.Scatter(x=base_stats['Dates'], y=base_stats['index'].apply(lambda x: (base_stats['Deaths'][x-7:x].sum()-base_stats['Deaths'][x-8:x-1].sum())/7 if x>0 else 0),\n",
    "                             name='7-day moving average', hovertemplate = '<br><b>Date</b>: %{x}'+'<br><i>7-day average</i>: %{y}', line=dict(dash=\"dash\", color='#0C6583')),row=2, col=2)\n",
    "daily_case_fig.update_xaxes(showticklabels=False)\n",
    "daily_case_fig.update_layout(\n",
    "    title_text=\"Daily change in cases of Covid19\", title_x=0.5, title_font_size=20,\n",
    "                            legend=dict(orientation='h',yanchor='top',y=1.1,xanchor='right',x=1), paper_bgcolor=\"mintcream\")\n",
    "\n",
    "\n",
    "daily_case_fig.show()   "
   ]
  },
  {
   "cell_type": "markdown",
   "metadata": {},
   "source": [
    "### Weekly and monthly statistics"
   ]
  },
  {
   "cell_type": "code",
   "execution_count": null,
   "metadata": {},
   "outputs": [],
   "source": [
    "base_stats['Dates'] = pd.to_datetime(base_stats[\"Dates\"])\n",
    "base_stats.set_index(base_stats[\"Dates\"],inplace=True)"
   ]
  },
  {
   "cell_type": "code",
   "execution_count": null,
   "metadata": {},
   "outputs": [],
   "source": [
    "week_month_fig = make_subplots(rows=1, cols=3, vertical_spacing=0.05, horizontal_spacing=0.04, # shared_yaxes=True,\n",
    "                           subplot_titles=('Daily Statistics','Weekly Statistics','Monthly Statistics'),y_title='# of Cases',)\n",
    "\n",
    "for column in ['Confirmed','Active','Recovered','Deaths']:\n",
    "    df_dict={\n",
    "      \"Confirmed\": [confirmed_df,\"#118ab2\",True],\n",
    "      \"Active\": [active_group,\"#ef476f\",False],\n",
    "      \"Recovered\": [recoveries_df,\"#06d6a0\",False],\n",
    "      \"Deaths\": [death_df,\"#073b4c\",False]        \n",
    "    }\n",
    "    week_month_fig.add_trace(go.Bar(x=list(range(len(base_stats[column].resample('D').sum()))),\n",
    "                            y=base_stats[column].resample('D').sum(), visible = df_dict[column][2],\n",
    "                            name='Daily '+column,hovertemplate = '<br><b>day</b>: %{x}'+'<br><i>Confirmed Count</i>: %{y}',\n",
    "                            marker=dict(color=df_dict[column][1]), showlegend=False) ,row=1, col=1)\n",
    "    week_month_fig.add_trace(go.Bar(x=list(range(len(base_stats[column].resample('W').sum()))),\n",
    "                            y=base_stats[column].resample('W').sum(), visible = df_dict[column][2],\n",
    "                            name='Weekly '+column,hovertemplate = '<br><b>Week</b>: %{x}'+'<br><i>Confirmed Count</i>: %{y}',\n",
    "                            marker=dict(color=df_dict[column][1]), showlegend=False) ,row=1, col=2)\n",
    "    week_month_fig.add_trace(go.Bar(x=list(range(len(base_stats[column].resample('M').sum()))),\n",
    "                            y=base_stats[column].resample('M').sum(), visible = df_dict[column][2],name='Monthly '+column,hovertemplate = '<br><b>Month</b>: %{x}'+'<br><i>Confirmed Count</i>: %{y}',\n",
    "                            marker=dict(color=df_dict[column][1]), showlegend=False) ,row=1, col=3)\n",
    "\n",
    "\n",
    "week_month_fig.update_layout(\n",
    "    updatemenus=[\n",
    "        dict(\n",
    "        buttons=list([\n",
    "             dict(label = 'Confirmed',\n",
    "                  method = 'update',\n",
    "                  args = [{'visible': [True, True, True, False, False, False, False, False, False, False, False, False]},\n",
    "                          {'title': 'Confirmed',\n",
    "                           'showlegend':True}]),\n",
    "             dict(label = 'Active',\n",
    "                  method = 'update',\n",
    "                  args = [{'visible': [False, False, False, True, True, True, False, False, False, False, False, False]},\n",
    "                          {'title': 'Active',\n",
    "                           'showlegend':True}]),\n",
    "             dict(label = 'Recovered',\n",
    "                  method = 'update',\n",
    "                  args = [{'visible': [False, False, False, False, False, False, True, True, True, False, False, False]},\n",
    "                          {'title': 'Recovered',\n",
    "                           'showlegend':True}]),dict(label = 'Deaths',\n",
    "                  method = 'update',\n",
    "                  args = [{'visible': [False, False, False, False, False, False, False, False, False, True, True, True]},\n",
    "                          {'title': 'Deaths',\n",
    "                           'showlegend':True}]),\n",
    "            ]),\n",
    "             type = \"buttons\",\n",
    "            direction=\"right\",\n",
    "#             pad={\"r\": 10, \"t\": 40},\n",
    "             showactive=True,\n",
    "             x=-0.05,\n",
    "             xanchor=\"left\",\n",
    "             y=1.2,\n",
    "             yanchor=\"top\"\n",
    "        )\n",
    "    ])\n",
    "week_month_fig.update_layout(\n",
    "    title_text=\"Weekly/Monthly Statistics\", title_x=0.5, title_font_size=20,\n",
    "                             paper_bgcolor=\"mintcream\")\n",
    "week_month_fig.update_xaxes(title_text=\"Days\", row=1, col=1)\n",
    "week_month_fig.update_xaxes(title_text=\"Weeks\", row=1, col=2)\n",
    "week_month_fig.update_xaxes(title_text=\"Months\", row=1, col=3)\n",
    "week_month_fig.show()"
   ]
  },
  {
   "cell_type": "code",
   "execution_count": 33,
   "metadata": {},
   "outputs": [
    {
     "ename": "NameError",
     "evalue": "name 'flatten' is not defined",
     "output_type": "error",
     "traceback": [
      "\u001b[1;31m---------------------------------------------------------------------------\u001b[0m",
      "\u001b[1;31mNameError\u001b[0m                                 Traceback (most recent call last)",
      "\u001b[1;32m<ipython-input-33-c085c02a9364>\u001b[0m in \u001b[0;36m<module>\u001b[1;34m\u001b[0m\n\u001b[0;32m      1\u001b[0m \u001b[0mprediction_df\u001b[0m \u001b[1;33m=\u001b[0m \u001b[0mpd\u001b[0m\u001b[1;33m.\u001b[0m\u001b[0mDataFrame\u001b[0m\u001b[1;33m(\u001b[0m\u001b[0mcolumns\u001b[0m\u001b[1;33m=\u001b[0m\u001b[1;33m[\u001b[0m\u001b[1;34m'Index'\u001b[0m\u001b[1;33m,\u001b[0m \u001b[1;34m'Confirmed Pred'\u001b[0m\u001b[1;33m,\u001b[0m \u001b[1;34m'Deaths Pred'\u001b[0m\u001b[1;33m,\u001b[0m \u001b[1;34m'Recovered Pred'\u001b[0m\u001b[1;33m,\u001b[0m \u001b[1;34m'Active Pred'\u001b[0m\u001b[1;33m,\u001b[0m \u001b[1;34m'Daily Inc. Pred'\u001b[0m\u001b[1;33m]\u001b[0m\u001b[1;33m)\u001b[0m\u001b[1;33m\u001b[0m\u001b[1;33m\u001b[0m\u001b[0m\n\u001b[1;32m----> 2\u001b[1;33m \u001b[0mprediction_df\u001b[0m\u001b[1;33m[\u001b[0m\u001b[1;34m'Index'\u001b[0m\u001b[1;33m]\u001b[0m \u001b[1;33m=\u001b[0m \u001b[0mlist\u001b[0m\u001b[1;33m(\u001b[0m\u001b[0mflatten\u001b[0m\u001b[1;33m(\u001b[0m\u001b[0mdays_ex\u001b[0m\u001b[1;33m)\u001b[0m\u001b[1;33m)\u001b[0m\u001b[1;33m\u001b[0m\u001b[1;33m\u001b[0m\u001b[0m\n\u001b[0m",
      "\u001b[1;31mNameError\u001b[0m: name 'flatten' is not defined"
     ]
    }
   ],
   "source": [
    "prediction_df = pd.DataFrame(columns=['Index', 'Confirmed Pred', 'Deaths Pred', 'Recovered Pred', 'Active Pred', 'Daily Inc. Pred'])\n",
    "prediction_df['Index'] = list(flatten(days_ex))"
   ]
  },
  {
   "cell_type": "code",
   "execution_count": 27,
   "metadata": {},
   "outputs": [
    {
     "ename": "NameError",
     "evalue": "name 'flatten' is not defined",
     "output_type": "error",
     "traceback": [
      "\u001b[1;31m---------------------------------------------------------------------------\u001b[0m",
      "\u001b[1;31mNameError\u001b[0m                                 Traceback (most recent call last)",
      "\u001b[1;32m<ipython-input-27-e75b68858658>\u001b[0m in \u001b[0;36m<module>\u001b[1;34m\u001b[0m\n\u001b[0;32m     18\u001b[0m         \u001b[0my_pred_poly\u001b[0m \u001b[1;33m=\u001b[0m \u001b[0mregr_poly\u001b[0m\u001b[1;33m.\u001b[0m\u001b[0mpredict\u001b[0m\u001b[1;33m(\u001b[0m\u001b[0mpoly\u001b[0m\u001b[1;33m.\u001b[0m\u001b[0mfit_transform\u001b[0m\u001b[1;33m(\u001b[0m\u001b[0mX_test_confirmed\u001b[0m\u001b[1;33m)\u001b[0m\u001b[1;33m)\u001b[0m\u001b[1;33m\u001b[0m\u001b[1;33m\u001b[0m\u001b[0m\n\u001b[0;32m     19\u001b[0m         \u001b[0mMAE\u001b[0m\u001b[1;33m.\u001b[0m\u001b[0mappend\u001b[0m\u001b[1;33m(\u001b[0m\u001b[0mnp\u001b[0m\u001b[1;33m.\u001b[0m\u001b[0mmean\u001b[0m\u001b[1;33m(\u001b[0m\u001b[0mnp\u001b[0m\u001b[1;33m.\u001b[0m\u001b[0mabsolute\u001b[0m\u001b[1;33m(\u001b[0m\u001b[0my_pred_poly\u001b[0m \u001b[1;33m-\u001b[0m \u001b[0my_test_confirmed\u001b[0m\u001b[1;33m)\u001b[0m\u001b[1;33m)\u001b[0m\u001b[1;33m)\u001b[0m\u001b[1;33m\u001b[0m\u001b[1;33m\u001b[0m\u001b[0m\n\u001b[1;32m---> 20\u001b[1;33m         \u001b[0mRSE\u001b[0m\u001b[1;33m.\u001b[0m\u001b[0mappend\u001b[0m\u001b[1;33m(\u001b[0m\u001b[0mnp\u001b[0m\u001b[1;33m.\u001b[0m\u001b[0mmean\u001b[0m\u001b[1;33m(\u001b[0m\u001b[1;33m(\u001b[0m\u001b[0my_pred_poly\u001b[0m \u001b[1;33m-\u001b[0m \u001b[0mlist\u001b[0m\u001b[1;33m(\u001b[0m\u001b[0mflatten\u001b[0m\u001b[1;33m(\u001b[0m\u001b[0my_test_confirmed\u001b[0m\u001b[1;33m)\u001b[0m\u001b[1;33m)\u001b[0m\u001b[1;33m)\u001b[0m \u001b[1;33m**\u001b[0m \u001b[1;36m2\u001b[0m\u001b[1;33m)\u001b[0m\u001b[1;33m)\u001b[0m\u001b[1;33m\u001b[0m\u001b[1;33m\u001b[0m\u001b[0m\n\u001b[0m\u001b[0;32m     21\u001b[0m         \u001b[0mR2\u001b[0m\u001b[1;33m.\u001b[0m\u001b[0mappend\u001b[0m\u001b[1;33m(\u001b[0m\u001b[0mr2_score\u001b[0m\u001b[1;33m(\u001b[0m\u001b[0my_pred_poly\u001b[0m\u001b[1;33m,\u001b[0m \u001b[0mlist\u001b[0m\u001b[1;33m(\u001b[0m\u001b[0mflatten\u001b[0m\u001b[1;33m(\u001b[0m\u001b[0my_test_confirmed\u001b[0m\u001b[1;33m)\u001b[0m\u001b[1;33m)\u001b[0m\u001b[1;33m)\u001b[0m\u001b[1;33m)\u001b[0m\u001b[1;33m\u001b[0m\u001b[1;33m\u001b[0m\u001b[0m\n",
      "\u001b[1;31mNameError\u001b[0m: name 'flatten' is not defined"
     ]
    }
   ],
   "source": [
    "for col in base_stats_inc_df.columns[2:]:\n",
    "\n",
    "    count = np.array(base_stats_inc_df[[col]]).reshape(-1, 1)\n",
    "\n",
    "    X_train_confirmed, X_test_confirmed, y_train_confirmed, y_test_confirmed = train_test_split(\n",
    "                                                        days[50:], count[50:], \n",
    "                                                        test_size=0.05, shuffle=False)\n",
    "\n",
    "    MAE, RSE, R2 = [], [], []\n",
    "    for j in range(1,10):\n",
    "        #creating the model\n",
    "        poly = PolynomialFeatures(degree=j)\n",
    "        train_x_poly = poly.fit_transform(X_train_confirmed)\n",
    "        \n",
    "        regr_poly = linear_model.LinearRegression()\n",
    "        regr_poly.fit(train_x_poly, y_train_confirmed)\n",
    "        \n",
    "        y_pred_poly = regr_poly.predict(poly.fit_transform(X_test_confirmed))\n",
    "        MAE.append(np.mean(np.absolute(y_pred_poly - y_test_confirmed)))\n",
    "        RSE.append(np.mean((y_pred_poly - list(flatten(y_test_confirmed))) ** 2))\n",
    "        R2.append(r2_score(y_pred_poly, list(flatten(y_test_confirmed))))"
   ]
  },
  {
   "cell_type": "code",
   "execution_count": null,
   "metadata": {},
   "outputs": [],
   "source": []
  }
 ],
 "metadata": {
  "kernelspec": {
   "display_name": "Python 3",
   "language": "python",
   "name": "python3"
  },
  "language_info": {
   "codemirror_mode": {
    "name": "ipython",
    "version": 3
   },
   "file_extension": ".py",
   "mimetype": "text/x-python",
   "name": "python",
   "nbconvert_exporter": "python",
   "pygments_lexer": "ipython3",
   "version": "3.8.2"
  }
 },
 "nbformat": 4,
 "nbformat_minor": 4
}
